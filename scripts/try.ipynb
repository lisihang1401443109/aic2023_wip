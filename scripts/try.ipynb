{
 "cells": [
  {
   "cell_type": "code",
   "execution_count": 1,
   "metadata": {},
   "outputs": [],
   "source": [
    "import os"
   ]
  },
  {
   "cell_type": "code",
   "execution_count": 2,
   "metadata": {},
   "outputs": [],
   "source": [
    "os.chdir('../data/aic23/')"
   ]
  },
  {
   "cell_type": "code",
   "execution_count": 9,
   "metadata": {},
   "outputs": [],
   "source": [
    "map = {\n",
    "    'test': {},\n",
    "    'train': {},\n",
    "    'validation': {}\n",
    "}"
   ]
  },
  {
   "cell_type": "code",
   "execution_count": 10,
   "metadata": {},
   "outputs": [],
   "source": [
    "for t in map:\n",
    "    os.chdir(t)\n",
    "    t_map = {}\n",
    "    for i in os.listdir():\n",
    "        cams = []\n",
    "        os.chdir(i)\n",
    "        for j in os.listdir():\n",
    "            if j == 'map.png':\n",
    "                continue\n",
    "            cams.append(j)\n",
    "        t_map[i] = cams\n",
    "        os.chdir('..')\n",
    "    os.chdir('..')\n",
    "    map[t] = t_map\n",
    "        \n",
    "        "
   ]
  },
  {
   "cell_type": "code",
   "execution_count": 11,
   "metadata": {},
   "outputs": [
    {
     "data": {
      "text/plain": [
       "{'test': {'S001': ['c001', 'c002', 'c003', 'c004', 'c005', 'c006', 'c007'],\n",
       "  'S003': ['c014', 'c015', 'c016', 'c017', 'c018', 'c019'],\n",
       "  'S009': ['c047', 'c048', 'c049', 'c050', 'c051', 'c052'],\n",
       "  'S014': ['c076', 'c077', 'c078', 'c079', 'c080', 'c081'],\n",
       "  'S018': ['c100', 'c101', 'c102', 'c103', 'c104', 'c105'],\n",
       "  'S022': ['c124', 'c125', 'c126', 'c127', 'c128', 'c129'],\n",
       "  'S021': ['c118', 'c119', 'c120', 'c121', 'c122', 'c123']},\n",
       " 'train': {'S012': ['c065', 'c066', 'c067', 'c068', 'c069', 'c070'],\n",
       "  'S011': ['c059', 'c060', 'c061', 'c062', 'c063', 'c064'],\n",
       "  'S002': ['c008', 'c009', 'c010', 'c011', 'c012', 'c013'],\n",
       "  'S004': ['c020', 'c021', 'c022', 'c023', 'c024'],\n",
       "  'S006': ['c030', 'c031', 'c032', 'c033', 'c034', 'c035'],\n",
       "  'S007': ['c036', 'c037', 'c038', 'c039', 'c040'],\n",
       "  'S010': ['c053', 'c054', 'c056', 'c055', 'c057', 'c058'],\n",
       "  'S015': ['c082', 'c083', 'c086', 'c084', 'c085', 'c087'],\n",
       "  'S019': ['c107', 'c106', 'c108', 'c109', 'c110', 'c111'],\n",
       "  'S016': ['c092', 'c090', 'c089', 'c091', 'c093', 'c088']},\n",
       " 'validation': {'S005': ['c025', 'c026', 'c027', 'c028', 'c029'],\n",
       "  'S008': ['c041', 'c042', 'c043', 'c044', 'c045', 'c046'],\n",
       "  'S013': ['c071', 'c072', 'c073', 'c074', 'c075'],\n",
       "  'S017': ['c094', 'c095', 'c096', 'c097', 'c098', 'c099'],\n",
       "  'S020': ['c112', 'c113', 'c114', 'c115', 'c116', 'c117']}}"
      ]
     },
     "execution_count": 11,
     "metadata": {},
     "output_type": "execute_result"
    }
   ],
   "source": [
    "map"
   ]
  },
  {
   "cell_type": "code",
   "execution_count": null,
   "metadata": {},
   "outputs": [],
   "source": []
  }
 ],
 "metadata": {
  "kernelspec": {
   "display_name": "traf",
   "language": "python",
   "name": "python3"
  },
  "language_info": {
   "codemirror_mode": {
    "name": "ipython",
    "version": 3
   },
   "file_extension": ".py",
   "mimetype": "text/x-python",
   "name": "python",
   "nbconvert_exporter": "python",
   "pygments_lexer": "ipython3",
   "version": "3.12.0"
  }
 },
 "nbformat": 4,
 "nbformat_minor": 2
}
